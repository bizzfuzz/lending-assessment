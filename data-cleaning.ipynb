{
 "cells": [
  {
   "cell_type": "markdown",
   "metadata": {},
   "source": [
    "## Import Libraries"
   ]
  },
  {
   "cell_type": "code",
   "execution_count": 3,
   "metadata": {},
   "outputs": [],
   "source": [
    "import pandas as pd"
   ]
  },
  {
   "cell_type": "markdown",
   "metadata": {},
   "source": [
    "### Load Data"
   ]
  },
  {
   "cell_type": "code",
   "execution_count": 5,
   "metadata": {},
   "outputs": [],
   "source": [
    "file_path = \"BI_Analyst_Case_Study_Data.xlsx\"\n",
    "disbursements_df = pd.read_excel(file_path, sheet_name=\"Disbursements\")\n",
    "repayments_df = pd.read_excel(file_path, sheet_name=\"Repayments\")"
   ]
  },
  {
   "cell_type": "code",
   "execution_count": 6,
   "metadata": {},
   "outputs": [
    {
     "data": {
      "text/html": [
       "<div>\n",
       "<style scoped>\n",
       "    .dataframe tbody tr th:only-of-type {\n",
       "        vertical-align: middle;\n",
       "    }\n",
       "\n",
       "    .dataframe tbody tr th {\n",
       "        vertical-align: top;\n",
       "    }\n",
       "\n",
       "    .dataframe thead th {\n",
       "        text-align: right;\n",
       "    }\n",
       "</style>\n",
       "<table border=\"1\" class=\"dataframe\">\n",
       "  <thead>\n",
       "    <tr style=\"text-align: right;\">\n",
       "      <th></th>\n",
       "      <th>customer_id</th>\n",
       "      <th>disb_date</th>\n",
       "      <th>tenure</th>\n",
       "      <th>account_num</th>\n",
       "      <th>loan_amount</th>\n",
       "      <th>loan_fee</th>\n",
       "    </tr>\n",
       "  </thead>\n",
       "  <tbody>\n",
       "    <tr>\n",
       "      <th>0</th>\n",
       "      <td>91810ca1aa097db79f050f38e9946fa5482b4e28c925e2...</td>\n",
       "      <td>2024-03-19</td>\n",
       "      <td>14 days</td>\n",
       "      <td>3O66YENWELA6E2H1R9YLX0LDZNOMNHD4</td>\n",
       "      <td>360</td>\n",
       "      <td>43.2</td>\n",
       "    </tr>\n",
       "    <tr>\n",
       "      <th>1</th>\n",
       "      <td>42ca06e6fe1ff9803e82a5c20184671b54090e488f78d6...</td>\n",
       "      <td>2024-03-19</td>\n",
       "      <td>7 days</td>\n",
       "      <td>6XWHXKKR1W2HIA8I0V75PZFZBXUUGSVO</td>\n",
       "      <td>70</td>\n",
       "      <td>7.0</td>\n",
       "    </tr>\n",
       "    <tr>\n",
       "      <th>2</th>\n",
       "      <td>b23747f53af805e18ad16a4ef235b6642d88f9134644ff...</td>\n",
       "      <td>2024-03-19</td>\n",
       "      <td>7 days</td>\n",
       "      <td>OCGK3RJZ91A999VXD4VB3LATPSME3J5L</td>\n",
       "      <td>3500</td>\n",
       "      <td>350.0</td>\n",
       "    </tr>\n",
       "    <tr>\n",
       "      <th>3</th>\n",
       "      <td>1bd32f9b083fc6ddfffd65730fbfa66654fa76a19b0b0e...</td>\n",
       "      <td>2024-03-19</td>\n",
       "      <td>14 days</td>\n",
       "      <td>9X3Q682DOR7927IMMJLFHBGP0RP7YF5C</td>\n",
       "      <td>3500</td>\n",
       "      <td>420.0</td>\n",
       "    </tr>\n",
       "    <tr>\n",
       "      <th>4</th>\n",
       "      <td>e7cfbaa97ba7702c52df5f1dddba54bd26923ebad945f1...</td>\n",
       "      <td>2024-03-19</td>\n",
       "      <td>7 days</td>\n",
       "      <td>AQH88NNF8S76MGJL4J4ULEAE18O0KLWH</td>\n",
       "      <td>120</td>\n",
       "      <td>12.0</td>\n",
       "    </tr>\n",
       "  </tbody>\n",
       "</table>\n",
       "</div>"
      ],
      "text/plain": [
       "                                         customer_id  disb_date   tenure  \\\n",
       "0  91810ca1aa097db79f050f38e9946fa5482b4e28c925e2... 2024-03-19  14 days   \n",
       "1  42ca06e6fe1ff9803e82a5c20184671b54090e488f78d6... 2024-03-19   7 days   \n",
       "2  b23747f53af805e18ad16a4ef235b6642d88f9134644ff... 2024-03-19   7 days   \n",
       "3  1bd32f9b083fc6ddfffd65730fbfa66654fa76a19b0b0e... 2024-03-19  14 days   \n",
       "4  e7cfbaa97ba7702c52df5f1dddba54bd26923ebad945f1... 2024-03-19   7 days   \n",
       "\n",
       "                        account_num  loan_amount  loan_fee  \n",
       "0  3O66YENWELA6E2H1R9YLX0LDZNOMNHD4          360      43.2  \n",
       "1  6XWHXKKR1W2HIA8I0V75PZFZBXUUGSVO           70       7.0  \n",
       "2  OCGK3RJZ91A999VXD4VB3LATPSME3J5L         3500     350.0  \n",
       "3  9X3Q682DOR7927IMMJLFHBGP0RP7YF5C         3500     420.0  \n",
       "4  AQH88NNF8S76MGJL4J4ULEAE18O0KLWH          120      12.0  "
      ]
     },
     "execution_count": 6,
     "metadata": {},
     "output_type": "execute_result"
    }
   ],
   "source": [
    "disbursements_df.head()"
   ]
  },
  {
   "cell_type": "code",
   "execution_count": 7,
   "metadata": {},
   "outputs": [
    {
     "data": {
      "text/html": [
       "<div>\n",
       "<style scoped>\n",
       "    .dataframe tbody tr th:only-of-type {\n",
       "        vertical-align: middle;\n",
       "    }\n",
       "\n",
       "    .dataframe tbody tr th {\n",
       "        vertical-align: top;\n",
       "    }\n",
       "\n",
       "    .dataframe thead th {\n",
       "        text-align: right;\n",
       "    }\n",
       "</style>\n",
       "<table border=\"1\" class=\"dataframe\">\n",
       "  <thead>\n",
       "    <tr style=\"text-align: right;\">\n",
       "      <th></th>\n",
       "      <th>date_time</th>\n",
       "      <th>customer_id</th>\n",
       "      <th>amount</th>\n",
       "      <th>rep_month</th>\n",
       "      <th>repayment_type</th>\n",
       "    </tr>\n",
       "  </thead>\n",
       "  <tbody>\n",
       "    <tr>\n",
       "      <th>0</th>\n",
       "      <td>27-JUN-24 07.16.36.000000000 AM</td>\n",
       "      <td>683131338d401fda38410a808797b7706bc3e364d0fe77...</td>\n",
       "      <td>500.65</td>\n",
       "      <td>202406</td>\n",
       "      <td>Automatic</td>\n",
       "    </tr>\n",
       "    <tr>\n",
       "      <th>1</th>\n",
       "      <td>27-JUN-24 05.26.50.000000000 PM</td>\n",
       "      <td>56a41251185bd205961556399289804607ccc660392837...</td>\n",
       "      <td>2833.33</td>\n",
       "      <td>202406</td>\n",
       "      <td>Automatic</td>\n",
       "    </tr>\n",
       "    <tr>\n",
       "      <th>2</th>\n",
       "      <td>27-JUN-24 06.45.40.000000000 PM</td>\n",
       "      <td>000e57e83f161e4ba6458b3e32c00815405c5a005e652b...</td>\n",
       "      <td>143.98</td>\n",
       "      <td>202406</td>\n",
       "      <td>Automatic</td>\n",
       "    </tr>\n",
       "    <tr>\n",
       "      <th>3</th>\n",
       "      <td>27-JUN-24 01.24.57.000000000 PM</td>\n",
       "      <td>f3606d5ac9a89e0251a60d7183a09bc742eba2e36882af...</td>\n",
       "      <td>1000.00</td>\n",
       "      <td>202406</td>\n",
       "      <td>Automatic</td>\n",
       "    </tr>\n",
       "    <tr>\n",
       "      <th>4</th>\n",
       "      <td>27-JUN-24 01.31.44.000000000 PM</td>\n",
       "      <td>f3606d5ac9a89e0251a60d7183a09bc742eba2e36882af...</td>\n",
       "      <td>801.00</td>\n",
       "      <td>202406</td>\n",
       "      <td>Manual</td>\n",
       "    </tr>\n",
       "  </tbody>\n",
       "</table>\n",
       "</div>"
      ],
      "text/plain": [
       "                         date_time  \\\n",
       "0  27-JUN-24 07.16.36.000000000 AM   \n",
       "1  27-JUN-24 05.26.50.000000000 PM   \n",
       "2  27-JUN-24 06.45.40.000000000 PM   \n",
       "3  27-JUN-24 01.24.57.000000000 PM   \n",
       "4  27-JUN-24 01.31.44.000000000 PM   \n",
       "\n",
       "                                         customer_id   amount  rep_month  \\\n",
       "0  683131338d401fda38410a808797b7706bc3e364d0fe77...   500.65     202406   \n",
       "1  56a41251185bd205961556399289804607ccc660392837...  2833.33     202406   \n",
       "2  000e57e83f161e4ba6458b3e32c00815405c5a005e652b...   143.98     202406   \n",
       "3  f3606d5ac9a89e0251a60d7183a09bc742eba2e36882af...  1000.00     202406   \n",
       "4  f3606d5ac9a89e0251a60d7183a09bc742eba2e36882af...   801.00     202406   \n",
       "\n",
       "  repayment_type  \n",
       "0      Automatic  \n",
       "1      Automatic  \n",
       "2      Automatic  \n",
       "3      Automatic  \n",
       "4         Manual  "
      ]
     },
     "execution_count": 7,
     "metadata": {},
     "output_type": "execute_result"
    }
   ],
   "source": [
    "repayments_df.head()"
   ]
  },
  {
   "cell_type": "markdown",
   "metadata": {},
   "source": [
    "### Data Cleaning"
   ]
  },
  {
   "cell_type": "markdown",
   "metadata": {},
   "source": [
    "#### Examining Data"
   ]
  },
  {
   "cell_type": "code",
   "execution_count": 10,
   "metadata": {},
   "outputs": [
    {
     "name": "stdout",
     "output_type": "stream",
     "text": [
      "<class 'pandas.core.frame.DataFrame'>\n",
      "RangeIndex: 26585 entries, 0 to 26584\n",
      "Data columns (total 6 columns):\n",
      " #   Column       Non-Null Count  Dtype         \n",
      "---  ------       --------------  -----         \n",
      " 0   customer_id  26585 non-null  object        \n",
      " 1   disb_date    26585 non-null  datetime64[ns]\n",
      " 2   tenure       26585 non-null  object        \n",
      " 3   account_num  26585 non-null  object        \n",
      " 4   loan_amount  26585 non-null  int64         \n",
      " 5   loan_fee     26585 non-null  float64       \n",
      "dtypes: datetime64[ns](1), float64(1), int64(1), object(3)\n",
      "memory usage: 1.2+ MB\n"
     ]
    }
   ],
   "source": [
    "disbursements_df.info()"
   ]
  },
  {
   "cell_type": "code",
   "execution_count": 11,
   "metadata": {},
   "outputs": [
    {
     "name": "stdout",
     "output_type": "stream",
     "text": [
      "<class 'pandas.core.frame.DataFrame'>\n",
      "RangeIndex: 66016 entries, 0 to 66015\n",
      "Data columns (total 5 columns):\n",
      " #   Column          Non-Null Count  Dtype  \n",
      "---  ------          --------------  -----  \n",
      " 0   date_time       66016 non-null  object \n",
      " 1   customer_id     66016 non-null  object \n",
      " 2   amount          66016 non-null  float64\n",
      " 3   rep_month       66016 non-null  int64  \n",
      " 4   repayment_type  66016 non-null  object \n",
      "dtypes: float64(1), int64(1), object(3)\n",
      "memory usage: 2.5+ MB\n"
     ]
    }
   ],
   "source": [
    "repayments_df.info()"
   ]
  },
  {
   "cell_type": "markdown",
   "metadata": {},
   "source": [
    "#### Missing Values"
   ]
  },
  {
   "cell_type": "code",
   "execution_count": null,
   "metadata": {},
   "outputs": [
    {
     "data": {
      "text/plain": [
       "customer_id    0\n",
       "disb_date      0\n",
       "tenure         0\n",
       "account_num    0\n",
       "loan_amount    0\n",
       "loan_fee       0\n",
       "dtype: int64"
      ]
     },
     "execution_count": 8,
     "metadata": {},
     "output_type": "execute_result"
    }
   ],
   "source": [
    "disbursements_df.isnull().sum()"
   ]
  },
  {
   "cell_type": "code",
   "execution_count": 9,
   "metadata": {},
   "outputs": [
    {
     "data": {
      "text/plain": [
       "date_time         0\n",
       "customer_id       0\n",
       "amount            0\n",
       "rep_month         0\n",
       "repayment_type    0\n",
       "dtype: int64"
      ]
     },
     "execution_count": 9,
     "metadata": {},
     "output_type": "execute_result"
    }
   ],
   "source": [
    "repayments_df.isnull().sum()"
   ]
  },
  {
   "cell_type": "markdown",
   "metadata": {},
   "source": [
    "#### Renaming Columns"
   ]
  },
  {
   "cell_type": "code",
   "execution_count": 12,
   "metadata": {},
   "outputs": [
    {
     "data": {
      "text/html": [
       "<div>\n",
       "<style scoped>\n",
       "    .dataframe tbody tr th:only-of-type {\n",
       "        vertical-align: middle;\n",
       "    }\n",
       "\n",
       "    .dataframe tbody tr th {\n",
       "        vertical-align: top;\n",
       "    }\n",
       "\n",
       "    .dataframe thead th {\n",
       "        text-align: right;\n",
       "    }\n",
       "</style>\n",
       "<table border=\"1\" class=\"dataframe\">\n",
       "  <thead>\n",
       "    <tr style=\"text-align: right;\">\n",
       "      <th></th>\n",
       "      <th>customer</th>\n",
       "      <th>date</th>\n",
       "      <th>tenure</th>\n",
       "      <th>account</th>\n",
       "      <th>amount</th>\n",
       "      <th>fee</th>\n",
       "    </tr>\n",
       "  </thead>\n",
       "  <tbody>\n",
       "    <tr>\n",
       "      <th>0</th>\n",
       "      <td>91810ca1aa097db79f050f38e9946fa5482b4e28c925e2...</td>\n",
       "      <td>2024-03-19</td>\n",
       "      <td>14 days</td>\n",
       "      <td>3O66YENWELA6E2H1R9YLX0LDZNOMNHD4</td>\n",
       "      <td>360</td>\n",
       "      <td>43.2</td>\n",
       "    </tr>\n",
       "    <tr>\n",
       "      <th>1</th>\n",
       "      <td>42ca06e6fe1ff9803e82a5c20184671b54090e488f78d6...</td>\n",
       "      <td>2024-03-19</td>\n",
       "      <td>7 days</td>\n",
       "      <td>6XWHXKKR1W2HIA8I0V75PZFZBXUUGSVO</td>\n",
       "      <td>70</td>\n",
       "      <td>7.0</td>\n",
       "    </tr>\n",
       "    <tr>\n",
       "      <th>2</th>\n",
       "      <td>b23747f53af805e18ad16a4ef235b6642d88f9134644ff...</td>\n",
       "      <td>2024-03-19</td>\n",
       "      <td>7 days</td>\n",
       "      <td>OCGK3RJZ91A999VXD4VB3LATPSME3J5L</td>\n",
       "      <td>3500</td>\n",
       "      <td>350.0</td>\n",
       "    </tr>\n",
       "    <tr>\n",
       "      <th>3</th>\n",
       "      <td>1bd32f9b083fc6ddfffd65730fbfa66654fa76a19b0b0e...</td>\n",
       "      <td>2024-03-19</td>\n",
       "      <td>14 days</td>\n",
       "      <td>9X3Q682DOR7927IMMJLFHBGP0RP7YF5C</td>\n",
       "      <td>3500</td>\n",
       "      <td>420.0</td>\n",
       "    </tr>\n",
       "    <tr>\n",
       "      <th>4</th>\n",
       "      <td>e7cfbaa97ba7702c52df5f1dddba54bd26923ebad945f1...</td>\n",
       "      <td>2024-03-19</td>\n",
       "      <td>7 days</td>\n",
       "      <td>AQH88NNF8S76MGJL4J4ULEAE18O0KLWH</td>\n",
       "      <td>120</td>\n",
       "      <td>12.0</td>\n",
       "    </tr>\n",
       "  </tbody>\n",
       "</table>\n",
       "</div>"
      ],
      "text/plain": [
       "                                            customer       date   tenure  \\\n",
       "0  91810ca1aa097db79f050f38e9946fa5482b4e28c925e2... 2024-03-19  14 days   \n",
       "1  42ca06e6fe1ff9803e82a5c20184671b54090e488f78d6... 2024-03-19   7 days   \n",
       "2  b23747f53af805e18ad16a4ef235b6642d88f9134644ff... 2024-03-19   7 days   \n",
       "3  1bd32f9b083fc6ddfffd65730fbfa66654fa76a19b0b0e... 2024-03-19  14 days   \n",
       "4  e7cfbaa97ba7702c52df5f1dddba54bd26923ebad945f1... 2024-03-19   7 days   \n",
       "\n",
       "                            account  amount    fee  \n",
       "0  3O66YENWELA6E2H1R9YLX0LDZNOMNHD4     360   43.2  \n",
       "1  6XWHXKKR1W2HIA8I0V75PZFZBXUUGSVO      70    7.0  \n",
       "2  OCGK3RJZ91A999VXD4VB3LATPSME3J5L    3500  350.0  \n",
       "3  9X3Q682DOR7927IMMJLFHBGP0RP7YF5C    3500  420.0  \n",
       "4  AQH88NNF8S76MGJL4J4ULEAE18O0KLWH     120   12.0  "
      ]
     },
     "execution_count": 12,
     "metadata": {},
     "output_type": "execute_result"
    }
   ],
   "source": [
    "disbursements_df.columns = [\"customer\", \"date\", \"tenure\", \"account\", \"amount\", \"fee\"]\n",
    "disbursements_df.head()"
   ]
  },
  {
   "cell_type": "code",
   "execution_count": 13,
   "metadata": {},
   "outputs": [
    {
     "data": {
      "text/html": [
       "<div>\n",
       "<style scoped>\n",
       "    .dataframe tbody tr th:only-of-type {\n",
       "        vertical-align: middle;\n",
       "    }\n",
       "\n",
       "    .dataframe tbody tr th {\n",
       "        vertical-align: top;\n",
       "    }\n",
       "\n",
       "    .dataframe thead th {\n",
       "        text-align: right;\n",
       "    }\n",
       "</style>\n",
       "<table border=\"1\" class=\"dataframe\">\n",
       "  <thead>\n",
       "    <tr style=\"text-align: right;\">\n",
       "      <th></th>\n",
       "      <th>date</th>\n",
       "      <th>customer</th>\n",
       "      <th>amount</th>\n",
       "      <th>month</th>\n",
       "      <th>type</th>\n",
       "    </tr>\n",
       "  </thead>\n",
       "  <tbody>\n",
       "    <tr>\n",
       "      <th>0</th>\n",
       "      <td>27-JUN-24 07.16.36.000000000 AM</td>\n",
       "      <td>683131338d401fda38410a808797b7706bc3e364d0fe77...</td>\n",
       "      <td>500.65</td>\n",
       "      <td>202406</td>\n",
       "      <td>Automatic</td>\n",
       "    </tr>\n",
       "    <tr>\n",
       "      <th>1</th>\n",
       "      <td>27-JUN-24 05.26.50.000000000 PM</td>\n",
       "      <td>56a41251185bd205961556399289804607ccc660392837...</td>\n",
       "      <td>2833.33</td>\n",
       "      <td>202406</td>\n",
       "      <td>Automatic</td>\n",
       "    </tr>\n",
       "    <tr>\n",
       "      <th>2</th>\n",
       "      <td>27-JUN-24 06.45.40.000000000 PM</td>\n",
       "      <td>000e57e83f161e4ba6458b3e32c00815405c5a005e652b...</td>\n",
       "      <td>143.98</td>\n",
       "      <td>202406</td>\n",
       "      <td>Automatic</td>\n",
       "    </tr>\n",
       "    <tr>\n",
       "      <th>3</th>\n",
       "      <td>27-JUN-24 01.24.57.000000000 PM</td>\n",
       "      <td>f3606d5ac9a89e0251a60d7183a09bc742eba2e36882af...</td>\n",
       "      <td>1000.00</td>\n",
       "      <td>202406</td>\n",
       "      <td>Automatic</td>\n",
       "    </tr>\n",
       "    <tr>\n",
       "      <th>4</th>\n",
       "      <td>27-JUN-24 01.31.44.000000000 PM</td>\n",
       "      <td>f3606d5ac9a89e0251a60d7183a09bc742eba2e36882af...</td>\n",
       "      <td>801.00</td>\n",
       "      <td>202406</td>\n",
       "      <td>Manual</td>\n",
       "    </tr>\n",
       "  </tbody>\n",
       "</table>\n",
       "</div>"
      ],
      "text/plain": [
       "                              date  \\\n",
       "0  27-JUN-24 07.16.36.000000000 AM   \n",
       "1  27-JUN-24 05.26.50.000000000 PM   \n",
       "2  27-JUN-24 06.45.40.000000000 PM   \n",
       "3  27-JUN-24 01.24.57.000000000 PM   \n",
       "4  27-JUN-24 01.31.44.000000000 PM   \n",
       "\n",
       "                                            customer   amount   month  \\\n",
       "0  683131338d401fda38410a808797b7706bc3e364d0fe77...   500.65  202406   \n",
       "1  56a41251185bd205961556399289804607ccc660392837...  2833.33  202406   \n",
       "2  000e57e83f161e4ba6458b3e32c00815405c5a005e652b...   143.98  202406   \n",
       "3  f3606d5ac9a89e0251a60d7183a09bc742eba2e36882af...  1000.00  202406   \n",
       "4  f3606d5ac9a89e0251a60d7183a09bc742eba2e36882af...   801.00  202406   \n",
       "\n",
       "        type  \n",
       "0  Automatic  \n",
       "1  Automatic  \n",
       "2  Automatic  \n",
       "3  Automatic  \n",
       "4     Manual  "
      ]
     },
     "execution_count": 13,
     "metadata": {},
     "output_type": "execute_result"
    }
   ],
   "source": [
    "repayments_df.columns = [\"date\", \"customer\", \"amount\", \"month\", \"type\"]\n",
    "repayments_df.head()"
   ]
  },
  {
   "cell_type": "code",
   "execution_count": null,
   "metadata": {},
   "outputs": [],
   "source": []
  }
 ],
 "metadata": {
  "kernelspec": {
   "display_name": "dev",
   "language": "python",
   "name": "python3"
  },
  "language_info": {
   "codemirror_mode": {
    "name": "ipython",
    "version": 3
   },
   "file_extension": ".py",
   "mimetype": "text/x-python",
   "name": "python",
   "nbconvert_exporter": "python",
   "pygments_lexer": "ipython3",
   "version": "3.8.19"
  }
 },
 "nbformat": 4,
 "nbformat_minor": 2
}
